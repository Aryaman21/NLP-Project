{
 "cells": [
  {
   "cell_type": "code",
   "execution_count": 54,
   "id": "532db7df",
   "metadata": {},
   "outputs": [
    {
     "name": "stdout",
     "output_type": "stream",
     "text": [
      "WARNING:tensorflow:No training configuration found in the save file, so the model was *not* compiled. Compile it manually.\n",
      "1/1 [==============================] - 0s 78ms/step\n"
     ]
    },
    {
     "name": "stderr",
     "output_type": "stream",
     "text": [
      "C:\\Users\\vinamra.khoria\\Anaconda3\\lib\\site-packages\\sklearn\\base.py:450: UserWarning: X does not have valid feature names, but MinMaxScaler was fitted with feature names\n",
      "  warnings.warn(\n"
     ]
    },
    {
     "name": "stdout",
     "output_type": "stream",
     "text": [
      "157/157 [==============================] - 0s 901us/step\n"
     ]
    },
    {
     "name": "stderr",
     "output_type": "stream",
     "text": [
      "C:\\Users\\vinamra.khoria\\Anaconda3\\lib\\site-packages\\sklearn\\base.py:450: UserWarning: X does not have valid feature names, but MinMaxScaler was fitted with feature names\n",
      "  warnings.warn(\n"
     ]
    }
   ],
   "source": [
    "import pandas as pd\n",
    "import joblib\n",
    "from lime import lime_tabular\n",
    "from tensorflow.keras.models import load_model\n",
    "\n",
    "trade_detect = joblib.load('Autoencoder_rf.pkl')\n",
    "encoder = load_model('encoder.h5')\n",
    "df=pd.read_csv(\"Autoencoder_training.csv\")\n",
    "t = joblib.load('minmaxscaler.pkl')\n",
    "x_test = [[0, 0, 0, 0, 0, 0, 0, 0, 30, 0.9]]\n",
    "prediction = trade_detect.predict(encoder.predict(t.transform(x_test)))\n",
    "\n",
    "x_test=pd.Series(x_test[0])\n",
    "explainer = lime_tabular.LimeTabularExplainer(df.to_numpy(), mode=\"classification\",\n",
    "                                        class_names=pd.array(['Not Anomaly','Anomaly'], dtype='<U7'),\n",
    "                                        feature_names=df.columns)\n",
    "\n",
    "predict_forest = lambda x: trade_detect.predict_proba(encoder.predict(t.transform(x)))\n",
    "exp = explainer.explain_instance(x_test, predict_forest, top_labels=1)\n",
    "exp2 = exp.as_list()\n",
    "exp = exp.as_html()"
   ]
  },
  {
   "cell_type": "code",
   "execution_count": 55,
   "id": "f24e9ed5",
   "metadata": {},
   "outputs": [
    {
     "data": {
      "text/plain": [
       "[('0 <= 0.00', -0.05288918782942942),\n",
       " ('3 <= 0.00', -0.009489635778693665),\n",
       " ('5 <= 0.14', -0.008124820049111164),\n",
       " ('6 <= 0.19', 0.007499730948752814),\n",
       " ('7 <= 0.17', -0.0031983719663634946),\n",
       " ('4 <= 0.38', 0.0030685226861102044),\n",
       " ('1 <= 0.00', 0.0020320718047678204),\n",
       " ('2 <= 0.23', 0.0015156997601676067),\n",
       " ('8 > 0.24', -0.0012795631606785458),\n",
       " ('9 > 0.00', 0.00026346995809208197)]"
      ]
     },
     "execution_count": 55,
     "metadata": {},
     "output_type": "execute_result"
    }
   ],
   "source": [
    "exp2"
   ]
  },
  {
   "cell_type": "code",
   "execution_count": 56,
   "id": "0ac70ada",
   "metadata": {},
   "outputs": [
    {
     "data": {
      "text/plain": [
       "{'region': -0.05288918782942942,\n",
       " 'entity': -0.009489635778693665,\n",
       " 'counterparty': -0.008124820049111164,\n",
       " 'counterparty_type': 0.007499730948752814,\n",
       " 'broker': -0.0031983719663634946,\n",
       " 'product': 0.0030685226861102044,\n",
       " 'ccy_pair': 0.0020320718047678204,\n",
       " 'tenor': 0.0015156997601676067,\n",
       " 'amt': -0.0012795631606785458,\n",
       " 'rate': 0.00026346995809208197}"
      ]
     },
     "execution_count": 56,
     "metadata": {},
     "output_type": "execute_result"
    }
   ],
   "source": [
    "dict = {}\n",
    "dict[\"region\"] = exp2[0][1]\n",
    "dict[\"entity\"] = exp2[1][1]\n",
    "dict[\"counterparty\"] = exp2[2][1]\n",
    "dict[\"counterparty_type\"] = exp2[3][1]\n",
    "dict[\"broker\"] = exp2[4][1]\n",
    "dict[\"product\"] = exp2[5][1]\n",
    "dict[\"ccy_pair\"] = exp2[6][1]\n",
    "dict[\"tenor\"] = exp2[7][1]\n",
    "dict[\"amt\"] = exp2[8][1]\n",
    "dict[\"rate\"] = exp2[9][1]\n",
    "dict"
   ]
  },
  {
   "cell_type": "code",
   "execution_count": 57,
   "id": "bfc454a6",
   "metadata": {},
   "outputs": [
    {
     "name": "stdout",
     "output_type": "stream",
     "text": [
      "{'counterparty_type': 0.007499730948752814, 'product': 0.0030685226861102044, 'ccy_pair': 0.0020320718047678204, 'tenor': 0.0015156997601676067, 'rate': 0.00026346995809208197}\n",
      "{'region': 0.05288918782942942, 'entity': 0.009489635778693665, 'counterparty': 0.008124820049111164, 'broker': 0.0031983719663634946, 'amt': 0.0012795631606785458}\n"
     ]
    }
   ],
   "source": [
    "pos = {}\n",
    "for i in dict:\n",
    "    if(dict[i] >= 0):\n",
    "       pos[i] = dict[i]\n",
    "neg = {}\n",
    "for i in dict:\n",
    "    if(dict[i] < 0):\n",
    "       neg[i] = -1*dict[i]\n",
    "print(pos)\n",
    "print(neg)"
   ]
  },
  {
   "cell_type": "markdown",
   "id": "e8cb79ce",
   "metadata": {},
   "source": [
    "# Anomaly Explanation"
   ]
  },
  {
   "cell_type": "code",
   "execution_count": 58,
   "id": "dbe04da9",
   "metadata": {},
   "outputs": [
    {
     "data": {
      "image/png": "[encoded data removed]",
      "text/plain": [
       "<Figure size 432x288 with 1 Axes>"
      ]
     },
     "metadata": {},
     "output_type": "display_data"
    }
   ],
   "source": [
    "import matplotlib.pyplot as plt\n",
    "# Data to plot\n",
    "labels = []\n",
    "sizes = []\n",
    "\n",
    "for x, y in pos.items():\n",
    "    labels.append(x)\n",
    "    sizes.append(y)\n",
    "\n",
    "# Plot\n",
    "plt.pie(sizes, labels=labels)\n",
    "\n",
    "plt.axis('equal')\n",
    "plt.show()"
   ]
  },
  {
   "cell_type": "code",
   "execution_count": 59,
   "id": "8e2207f9",
   "metadata": {},
   "outputs": [
    {
     "data": {
      "text/plain": [
       "<BarContainer object of 5 artists>"
      ]
     },
     "execution_count": 59,
     "metadata": {},
     "output_type": "execute_result"
    },
    {
     "data": {
      "image/png": "[encoded data removed]",
      "text/plain": [
       "<Figure size 432x288 with 1 Axes>"
      ]
     },
     "metadata": {
      "needs_background": "light"
     },
     "output_type": "display_data"
    }
   ],
   "source": [
    "width = 1.0\n",
    "plt.bar(pos.keys(), pos.values(), width, color='g')"
   ]
  },
  {
   "cell_type": "markdown",
   "id": "0a0d9e11",
   "metadata": {},
   "source": [
    "# Not Anomaly Explanation"
   ]
  },
  {
   "cell_type": "code",
   "execution_count": 52,
   "id": "e1c19499",
   "metadata": {},
   "outputs": [
    {
     "data": {
      "image/png": "[encoded data removed]",
      "text/plain": [
       "<Figure size 432x288 with 1 Axes>"
      ]
     },
     "metadata": {},
     "output_type": "display_data"
    }
   ],
   "source": [
    "import matplotlib.pyplot as plt\n",
    "# Data to plot\n",
    "labels = []\n",
    "sizes = []\n",
    "\n",
    "for x, y in neg.items():\n",
    "    labels.append(x)\n",
    "    sizes.append(y)\n",
    "\n",
    "# Plot\n",
    "plt.pie(sizes, labels=labels)\n",
    "\n",
    "plt.axis('equal')\n",
    "plt.show()"
   ]
  },
  {
   "cell_type": "code",
   "execution_count": 53,
   "id": "af700763",
   "metadata": {},
   "outputs": [
    {
     "data": {
      "text/plain": [
       "<BarContainer object of 6 artists>"
      ]
     },
     "execution_count": 53,
     "metadata": {},
     "output_type": "execute_result"
    },
    {
     "data": {
      "image/png": "[encoded data removed]",
      "text/plain": [
       "<Figure size 432x288 with 1 Axes>"
      ]
     },
     "metadata": {
      "needs_background": "light"
     },
     "output_type": "display_data"
    }
   ],
   "source": [
    "width = 1.0\n",
    "plt.bar(neg.keys(), neg.values(), width, color='g')"
   ]
  }
 ],
 "metadata": {
  "kernelspec": {
   "display_name": "Python 3 (ipykernel)",
   "language": "python",
   "name": "python3"
  },
  "language_info": {
   "codemirror_mode": {
    "name": "ipython",
    "version": 3
   },
   "file_extension": ".py",
   "mimetype": "text/x-python",
   "name": "python",
   "nbconvert_exporter": "python",
   "pygments_lexer": "ipython3",
   "version": "3.9.12"
  }
 },
 "nbformat": 4,
 "nbformat_minor": 5
}
